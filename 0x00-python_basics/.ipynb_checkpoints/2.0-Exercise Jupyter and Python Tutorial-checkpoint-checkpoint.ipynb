{
 "cells": [
  {
   "cell_type": "markdown",
   "metadata": {},
   "source": [
    "Ensure you are using Python 3.0 and above\n",
    "\n",
    "Make sure you fill in any place that says `YOUR CODE HERE` or \"YOUR ANSWER HERE\". Delete the 'raise NotImplementedError()' once you write your code there"
   ]
  },
  {
   "cell_type": "code",
   "execution_count": 1,
   "metadata": {
    "deletable": false,
    "editable": false,
    "nbgrader": {
     "checksum": "97c2d5b538162e1e7b7d50e0c9917ff5",
     "grade": false,
     "grade_id": "cell-2db564b1f4bb5965",
     "locked": true,
     "schema_version": 1,
     "solution": false
    }
   },
   "outputs": [],
   "source": [
    "import IPython\n",
    "assert IPython.version_info[0] >= 3, \"Your version of IPython is too old, please update it.\""
   ]
  },
  {
   "cell_type": "code",
   "execution_count": 4,
   "metadata": {},
   "outputs": [
    {
     "name": "stdout",
     "output_type": "stream",
     "text": [
      "Collecting nose\n",
      "  Downloading nose-1.3.7-py3-none-any.whl (154 kB)\n",
      "\u001b[2K     \u001b[90m━━━━━━━━━━━━━━━━━━━━━━━━━━━━━━━━━━━━━\u001b[0m \u001b[32m154.7/154.7 kB\u001b[0m \u001b[31m732.7 kB/s\u001b[0m eta \u001b[36m0:00:00\u001b[0ma \u001b[36m0:00:01\u001b[0m\n",
      "\u001b[?25hInstalling collected packages: nose\n",
      "Successfully installed nose-1.3.7\n",
      "Note: you may need to restart the kernel to use updated packages.\n"
     ]
    }
   ],
   "source": [
    "pip install nose"
   ]
  },
  {
   "cell_type": "markdown",
   "metadata": {},
   "source": [
    "### Complete the following Python exercises and submit the notebook on class folder"
   ]
  },
  {
   "cell_type": "code",
   "execution_count": 6,
   "metadata": {
    "deletable": false,
    "editable": false,
    "nbgrader": {
     "checksum": "c5b1619e75145b28250ff6f0bca6508b",
     "grade": false,
     "grade_id": "cell-357d7836b104559b",
     "locked": true,
     "schema_version": 1,
     "solution": false
    }
   },
   "outputs": [],
   "source": [
    "# Imports\n",
    "import numpy as np\n",
    "from nose.tools import *\n",
    "import IPython\n",
    "assert IPython.version_info[0] >= 3, \"Your version of IPython is too old, please update it.\""
   ]
  },
  {
   "cell_type": "markdown",
   "metadata": {},
   "source": [
    "### Part A - Python stuff"
   ]
  },
  {
   "cell_type": "markdown",
   "metadata": {},
   "source": [
    "#### Question 1\n",
    "Write a function that adds two numbers together. If the numbers result in decimals, make sure that they are rounded off to 2 significant decimals, i.e. 23.1234 + 12.4321 = 35.56"
   ]
  },
  {
   "cell_type": "code",
   "execution_count": 7,
   "metadata": {
    "deletable": false,
    "nbgrader": {
     "checksum": "f176d7b717e0826ae367803444c80728",
     "grade": false,
     "grade_id": "cell-cb3cad34e6f02386",
     "locked": false,
     "schema_version": 1,
     "solution": true
    }
   },
   "outputs": [],
   "source": [
    "# warm up\n",
    "def add_two_numbers(x,y):\n",
    "    return x+y"
   ]
  },
  {
   "cell_type": "code",
   "execution_count": 9,
   "metadata": {
    "deletable": false,
    "editable": false,
    "nbgrader": {
     "checksum": "acb27db3f8043df2f54e21f9f81b6c6d",
     "grade": true,
     "grade_id": "cell-38e9dccd85269c70",
     "locked": true,
     "points": 3,
     "schema_version": 1,
     "solution": false
    }
   },
   "outputs": [
    {
     "ename": "AssertionError",
     "evalue": "77.193 != 77.19",
     "output_type": "error",
     "traceback": [
      "\u001b[0;31m---------------------------------------------------------------------------\u001b[0m",
      "\u001b[0;31mAssertionError\u001b[0m                            Traceback (most recent call last)",
      "Cell \u001b[0;32mIn[9], line 2\u001b[0m\n\u001b[1;32m      1\u001b[0m \u001b[38;5;66;03m# Run tests\u001b[39;00m\n\u001b[0;32m----> 2\u001b[0m assert_equal(add_two_numbers(\u001b[38;5;241m34.257\u001b[39m, \u001b[38;5;241m42.936\u001b[39m), \u001b[38;5;241m77.19\u001b[39m)\n",
      "File \u001b[0;32m/Applications/anaconda3/lib/python3.11/unittest/case.py:873\u001b[0m, in \u001b[0;36mTestCase.assertEqual\u001b[0;34m(self, first, second, msg)\u001b[0m\n\u001b[1;32m    869\u001b[0m \u001b[38;5;250m\u001b[39m\u001b[38;5;124;03m\"\"\"Fail if the two objects are unequal as determined by the '=='\u001b[39;00m\n\u001b[1;32m    870\u001b[0m \u001b[38;5;124;03m   operator.\u001b[39;00m\n\u001b[1;32m    871\u001b[0m \u001b[38;5;124;03m\"\"\"\u001b[39;00m\n\u001b[1;32m    872\u001b[0m assertion_func \u001b[38;5;241m=\u001b[39m \u001b[38;5;28mself\u001b[39m\u001b[38;5;241m.\u001b[39m_getAssertEqualityFunc(first, second)\n\u001b[0;32m--> 873\u001b[0m assertion_func(first, second, msg\u001b[38;5;241m=\u001b[39mmsg)\n",
      "File \u001b[0;32m/Applications/anaconda3/lib/python3.11/unittest/case.py:866\u001b[0m, in \u001b[0;36mTestCase._baseAssertEqual\u001b[0;34m(self, first, second, msg)\u001b[0m\n\u001b[1;32m    864\u001b[0m standardMsg \u001b[38;5;241m=\u001b[39m \u001b[38;5;124m'\u001b[39m\u001b[38;5;132;01m%s\u001b[39;00m\u001b[38;5;124m != \u001b[39m\u001b[38;5;132;01m%s\u001b[39;00m\u001b[38;5;124m'\u001b[39m \u001b[38;5;241m%\u001b[39m _common_shorten_repr(first, second)\n\u001b[1;32m    865\u001b[0m msg \u001b[38;5;241m=\u001b[39m \u001b[38;5;28mself\u001b[39m\u001b[38;5;241m.\u001b[39m_formatMessage(msg, standardMsg)\n\u001b[0;32m--> 866\u001b[0m \u001b[38;5;28;01mraise\u001b[39;00m \u001b[38;5;28mself\u001b[39m\u001b[38;5;241m.\u001b[39mfailureException(msg)\n",
      "\u001b[0;31mAssertionError\u001b[0m: 77.193 != 77.19"
     ]
    }
   ],
   "source": [
    "# Run tests\n",
    "assert_equal(add_two_numbers(34.257, 42.936), 77.19)"
   ]
  },
  {
   "cell_type": "markdown",
   "metadata": {},
   "source": [
    "#### Question 2\n",
    "Complete this function to provide the cummulative sum of the first N numbers. The numbers should be counted from 1,2,.... Tip: You may want to look at the range function of Python.\n",
    "E.g. function(4) = 1+2+3+4 = 10\n",
    "\n",
    "Add an additional check - if the number N provided is outside an acceptable range, return 0. The acceptable range is 0 - 200 inclusive (i.e. it includes 0 and 200)"
   ]
  },
  {
   "cell_type": "code",
   "execution_count": 10,
   "metadata": {
    "deletable": false,
    "nbgrader": {
     "checksum": "331e1a0a44d9630a0db845ac6b47ef3e",
     "grade": false,
     "grade_id": "cell-ddc6a0cd82f6d7db",
     "locked": false,
     "schema_version": 1,
     "solution": true
    }
   },
   "outputs": [],
   "source": [
    "def sum_first_N_numbers(N):\n",
    "    sum = 0;\n",
    "    for i in range(1,N+1):\n",
    "        sum=sum+i\n",
    "    return sum"
   ]
  },
  {
   "cell_type": "code",
   "execution_count": null,
   "metadata": {
    "deletable": false,
    "editable": false,
    "nbgrader": {
     "checksum": "ebc4f7dd6fbcce9868c78647e6d5f34d",
     "grade": true,
     "grade_id": "cell-34d1aba5d7cc55d8",
     "locked": true,
     "points": 2,
     "schema_version": 1,
     "solution": false
    }
   },
   "outputs": [],
   "source": [
    "# Tests 1\n",
    "assert_equal(sum_first_N_numbers(4), 10)"
   ]
  },
  {
   "cell_type": "code",
   "execution_count": null,
   "metadata": {
    "deletable": false,
    "editable": false,
    "nbgrader": {
     "checksum": "68dd61f6c09ee516d5835b0e8069b131",
     "grade": true,
     "grade_id": "cell-93e0ff65d1eab080",
     "locked": true,
     "points": 2,
     "schema_version": 1,
     "solution": false
    }
   },
   "outputs": [],
   "source": [
    "# Tests 2\n",
    "assert_equal(sum_first_N_numbers(0), 0)"
   ]
  },
  {
   "cell_type": "code",
   "execution_count": null,
   "metadata": {
    "deletable": false,
    "editable": false,
    "nbgrader": {
     "checksum": "9e4f1efb206371510de20b8babcda9b4",
     "grade": true,
     "grade_id": "cell-a9ade0586e328717",
     "locked": true,
     "points": 3,
     "schema_version": 1,
     "solution": false
    }
   },
   "outputs": [],
   "source": [
    "# Tests 3\n",
    "assert_equal(sum_first_N_numbers(300), 0)"
   ]
  },
  {
   "cell_type": "markdown",
   "metadata": {},
   "source": [
    "#### Question 3\n",
    "Write a function to calculate the mean of a list of numbers. Numbers should be rounded off to 2 significant decimals if they are decimal numbers\n",
    "\n",
    "E.g. function([2,2,2,2]) = 2"
   ]
  },
  {
   "cell_type": "code",
   "execution_count": 12,
   "metadata": {
    "deletable": false,
    "nbgrader": {
     "checksum": "62e86df1395570e610223e8ca7c36975",
     "grade": false,
     "grade_id": "cell-6a114e8a16020116",
     "locked": false,
     "schema_version": 1,
     "solution": true
    }
   },
   "outputs": [],
   "source": [
    "import math\n",
    "def get_mean(x):\n",
    "    # Function should get the mean of a list of numbers x\n",
    "    # i.e. if x = [1,2,3], get_mean(x) = 2\n",
    "    # YOUR CODE HERE\n",
    "    if num in x:\n",
    "        x = []\n",
    "    mean = sum(x) / len(x)\n",
    "    rounded = round(mean,2)     \n",
    "    return rounded\n",
    "     raise NotImplementedError()"
   ]
  },
  {
   "cell_type": "code",
   "execution_count": 11,
   "metadata": {
    "deletable": false,
    "editable": false,
    "nbgrader": {
     "checksum": "538e0ae15ae19e99cd1b7384cdcf84b5",
     "grade": true,
     "grade_id": "cell-bb8d92f5fdb244ec",
     "locked": true,
     "points": 2,
     "schema_version": 1,
     "solution": false
    }
   },
   "outputs": [
    {
     "ename": "NameError",
     "evalue": "name 'get_mean' is not defined",
     "output_type": "error",
     "traceback": [
      "\u001b[0;31m---------------------------------------------------------------------------\u001b[0m",
      "\u001b[0;31mNameError\u001b[0m                                 Traceback (most recent call last)",
      "Cell \u001b[0;32mIn[11], line 2\u001b[0m\n\u001b[1;32m      1\u001b[0m \u001b[38;5;66;03m# Tests 1\u001b[39;00m\n\u001b[0;32m----> 2\u001b[0m assert_equal(get_mean([\u001b[38;5;241m2\u001b[39m,\u001b[38;5;241m3\u001b[39m,\u001b[38;5;241m4\u001b[39m,\u001b[38;5;241m5\u001b[39m]), \u001b[38;5;241m3.5\u001b[39m)\n",
      "\u001b[0;31mNameError\u001b[0m: name 'get_mean' is not defined"
     ]
    }
   ],
   "source": [
    "# Tests 1\n",
    "assert_equal(get_mean([2,3,4,5]), 3.5)"
   ]
  },
  {
   "cell_type": "markdown",
   "metadata": {},
   "source": [
    "#### Question 4\n",
    "Complete the function to get the power of a number. Ensure that if it is a decimal number it is rounded off to 3 (THREE) decimal places. \n",
    "\n",
    "E.g. function(3,2) = 9"
   ]
  },
  {
   "cell_type": "code",
   "execution_count": 13,
   "metadata": {
    "deletable": false,
    "nbgrader": {
     "checksum": "ca0f1f6b1950f16565a99500151249e8",
     "grade": false,
     "grade_id": "cell-0d560c78a3ca2566",
     "locked": false,
     "schema_version": 1,
     "solution": true
    }
   },
   "outputs": [],
   "source": [
    "def get_i_power(x, i):\n",
    "    # Get x to the power i\n",
    "    # E.g. get_i_power(2,3) = 8\n",
    "    # YOUR CODE HERE\n",
    "    powered = x**i\n",
    "    rounded = round(powered,3)\n",
    "    return rounded\n",
    "    raise NotImplementedError()"
   ]
  },
  {
   "cell_type": "code",
   "execution_count": 14,
   "metadata": {
    "deletable": false,
    "editable": false,
    "nbgrader": {
     "checksum": "98febda69272474c87f006a2ce156625",
     "grade": true,
     "grade_id": "cell-154da60daea46d99",
     "locked": true,
     "points": 2,
     "schema_version": 1,
     "solution": false
    }
   },
   "outputs": [],
   "source": [
    "# Test 1\n",
    "assert_equal(get_i_power(3,2), 9)"
   ]
  },
  {
   "cell_type": "code",
   "execution_count": 15,
   "metadata": {
    "deletable": false,
    "editable": false,
    "nbgrader": {
     "checksum": "0e4fd0bf39412caabac00a4c23f61fed",
     "grade": true,
     "grade_id": "cell-52043c6a51a27e2c",
     "locked": true,
     "points": 3,
     "schema_version": 1,
     "solution": false
    }
   },
   "outputs": [],
   "source": [
    "# Tests 2\n",
    "assert_equal(get_i_power(2.6,5), 118.814)"
   ]
  },
  {
   "cell_type": "markdown",
   "metadata": {},
   "source": [
    "#### Question 5\n",
    "Write a function to reverse a string.\n",
    "\n",
    "E.g. function('Mountain') = 'niatnuoM'"
   ]
  },
  {
   "cell_type": "code",
   "execution_count": 16,
   "metadata": {
    "deletable": false,
    "nbgrader": {
     "checksum": "4200abb9b0a88cc8d8865046c3e27f35",
     "grade": false,
     "grade_id": "cell-afe0b2a267eede6f",
     "locked": false,
     "schema_version": 1,
     "solution": true
    }
   },
   "outputs": [],
   "source": [
    "def reverse_string(s):\n",
    "    # Reverse string s\n",
    "    # E.g. reverse_string('Mountain') = 'niatnuoM'\n",
    "    # YOUR CODE HERE\n",
    "    reverso = s[::-1]\n",
    "    return reverso\n",
    "    raise NotImplementedError()"
   ]
  },
  {
   "cell_type": "code",
   "execution_count": 17,
   "metadata": {
    "deletable": false,
    "editable": false,
    "nbgrader": {
     "checksum": "b30d9679ed7ee73e8664578c72b3985d",
     "grade": true,
     "grade_id": "cell-dfceb8f1cbacebb3",
     "locked": true,
     "points": 3,
     "schema_version": 1,
     "solution": false
    }
   },
   "outputs": [],
   "source": [
    "# Test 1\n",
    "assert_equal(reverse_string('Mount Meru'), 'ureM tnuoM')"
   ]
  },
  {
   "cell_type": "markdown",
   "metadata": {},
   "source": [
    "#### Question 6\n",
    "Given the assignment_dates list, can you return the days from this string\n",
    "\n",
    "E.g. function(assignment_dates) = ['Friday', 'Saturday', 'Sunday']"
   ]
  },
  {
   "cell_type": "code",
   "execution_count": 25,
   "metadata": {},
   "outputs": [
    {
     "name": "stdout",
     "output_type": "stream",
     "text": [
      "Requirement already satisfied: python-dateutil in /Applications/anaconda3/lib/python3.11/site-packages (2.8.2)\n",
      "Requirement already satisfied: six>=1.5 in /Applications/anaconda3/lib/python3.11/site-packages (from python-dateutil) (1.16.0)\n",
      "Note: you may need to restart the kernel to use updated packages.\n"
     ]
    }
   ],
   "source": [
    "pip install python-dateutil"
   ]
  },
  {
   "cell_type": "code",
   "execution_count": 33,
   "metadata": {
    "deletable": false,
    "nbgrader": {
     "checksum": "33095efb33c557488c71ef5bd8a08540",
     "grade": false,
     "grade_id": "cell-63604151c8149a01",
     "locked": false,
     "schema_version": 1,
     "solution": true
    }
   },
   "outputs": [],
   "source": [
    "from dateutil import parser\n",
    "def get_days(date_list):\n",
    "    # Return the days in the list of dates provided\n",
    "    # E.g. get_days(assignment_dates) = ['Friday', 'Saturday', 'Sunday']\n",
    "    # You may want to use python slicing, split commands\n",
    "    # YOUR CODE HERE\n",
    "    days_of_week = [parser.parse(date, fuzzy_with_tokens=True)[0].strftime('%A') for date in assignment_dates]\n",
    "\n",
    "    return days_of_week\n",
    "    assert get_days(assignment_dates) == expected_result\n",
    "\n",
    "    raise NotImplementedError()"
   ]
  },
  {
   "cell_type": "code",
   "execution_count": 34,
   "metadata": {
    "deletable": false,
    "editable": false,
    "nbgrader": {
     "checksum": "c5716dfccd9f13183cfa31238afeb89d",
     "grade": true,
     "grade_id": "cell-4551b5f0d1528d7c",
     "locked": true,
     "points": 3,
     "schema_version": 1,
     "solution": false
    }
   },
   "outputs": [
    {
     "ename": "AssertionError",
     "evalue": "Lists differ: ['Friday', 'Saturday', 'Saturday'] != ['Friday', 'Saturday', 'Sunday']\n\nFirst differing element 2:\n'Saturday'\n'Sunday'\n\n- ['Friday', 'Saturday', 'Saturday']\n?                          -- ^\n\n+ ['Friday', 'Saturday', 'Sunday']\n?                           ^\n",
     "output_type": "error",
     "traceback": [
      "\u001b[0;31m---------------------------------------------------------------------------\u001b[0m",
      "\u001b[0;31mAssertionError\u001b[0m                            Traceback (most recent call last)",
      "Cell \u001b[0;32mIn[34], line 3\u001b[0m\n\u001b[1;32m      1\u001b[0m \u001b[38;5;66;03m# Test 1\u001b[39;00m\n\u001b[1;32m      2\u001b[0m assignment_dates \u001b[38;5;241m=\u001b[39m [\u001b[38;5;124m'\u001b[39m\u001b[38;5;124mFriday 27 Jan 2017\u001b[39m\u001b[38;5;124m'\u001b[39m, \u001b[38;5;124m'\u001b[39m\u001b[38;5;124mSaturday 12 March 2016\u001b[39m\u001b[38;5;124m'\u001b[39m, \u001b[38;5;124m'\u001b[39m\u001b[38;5;124mSunday 3 October 2015\u001b[39m\u001b[38;5;124m'\u001b[39m]\n\u001b[0;32m----> 3\u001b[0m assert_equal(get_days(assignment_dates), [\u001b[38;5;124m'\u001b[39m\u001b[38;5;124mFriday\u001b[39m\u001b[38;5;124m'\u001b[39m, \u001b[38;5;124m'\u001b[39m\u001b[38;5;124mSaturday\u001b[39m\u001b[38;5;124m'\u001b[39m, \u001b[38;5;124m'\u001b[39m\u001b[38;5;124mSunday\u001b[39m\u001b[38;5;124m'\u001b[39m])\n",
      "File \u001b[0;32m/Applications/anaconda3/lib/python3.11/unittest/case.py:873\u001b[0m, in \u001b[0;36mTestCase.assertEqual\u001b[0;34m(self, first, second, msg)\u001b[0m\n\u001b[1;32m    869\u001b[0m \u001b[38;5;250m\u001b[39m\u001b[38;5;124;03m\"\"\"Fail if the two objects are unequal as determined by the '=='\u001b[39;00m\n\u001b[1;32m    870\u001b[0m \u001b[38;5;124;03m   operator.\u001b[39;00m\n\u001b[1;32m    871\u001b[0m \u001b[38;5;124;03m\"\"\"\u001b[39;00m\n\u001b[1;32m    872\u001b[0m assertion_func \u001b[38;5;241m=\u001b[39m \u001b[38;5;28mself\u001b[39m\u001b[38;5;241m.\u001b[39m_getAssertEqualityFunc(first, second)\n\u001b[0;32m--> 873\u001b[0m assertion_func(first, second, msg\u001b[38;5;241m=\u001b[39mmsg)\n",
      "File \u001b[0;32m/Applications/anaconda3/lib/python3.11/unittest/case.py:1079\u001b[0m, in \u001b[0;36mTestCase.assertListEqual\u001b[0;34m(self, list1, list2, msg)\u001b[0m\n\u001b[1;32m   1069\u001b[0m \u001b[38;5;28;01mdef\u001b[39;00m \u001b[38;5;21massertListEqual\u001b[39m(\u001b[38;5;28mself\u001b[39m, list1, list2, msg\u001b[38;5;241m=\u001b[39m\u001b[38;5;28;01mNone\u001b[39;00m):\n\u001b[1;32m   1070\u001b[0m \u001b[38;5;250m    \u001b[39m\u001b[38;5;124;03m\"\"\"A list-specific equality assertion.\u001b[39;00m\n\u001b[1;32m   1071\u001b[0m \n\u001b[1;32m   1072\u001b[0m \u001b[38;5;124;03m    Args:\u001b[39;00m\n\u001b[0;32m   (...)\u001b[0m\n\u001b[1;32m   1077\u001b[0m \n\u001b[1;32m   1078\u001b[0m \u001b[38;5;124;03m    \"\"\"\u001b[39;00m\n\u001b[0;32m-> 1079\u001b[0m     \u001b[38;5;28mself\u001b[39m\u001b[38;5;241m.\u001b[39massertSequenceEqual(list1, list2, msg, seq_type\u001b[38;5;241m=\u001b[39m\u001b[38;5;28mlist\u001b[39m)\n",
      "File \u001b[0;32m/Applications/anaconda3/lib/python3.11/unittest/case.py:1061\u001b[0m, in \u001b[0;36mTestCase.assertSequenceEqual\u001b[0;34m(self, seq1, seq2, msg, seq_type)\u001b[0m\n\u001b[1;32m   1059\u001b[0m standardMsg \u001b[38;5;241m=\u001b[39m \u001b[38;5;28mself\u001b[39m\u001b[38;5;241m.\u001b[39m_truncateMessage(standardMsg, diffMsg)\n\u001b[1;32m   1060\u001b[0m msg \u001b[38;5;241m=\u001b[39m \u001b[38;5;28mself\u001b[39m\u001b[38;5;241m.\u001b[39m_formatMessage(msg, standardMsg)\n\u001b[0;32m-> 1061\u001b[0m \u001b[38;5;28mself\u001b[39m\u001b[38;5;241m.\u001b[39mfail(msg)\n",
      "File \u001b[0;32m/Applications/anaconda3/lib/python3.11/unittest/case.py:703\u001b[0m, in \u001b[0;36mTestCase.fail\u001b[0;34m(self, msg)\u001b[0m\n\u001b[1;32m    701\u001b[0m \u001b[38;5;28;01mdef\u001b[39;00m \u001b[38;5;21mfail\u001b[39m(\u001b[38;5;28mself\u001b[39m, msg\u001b[38;5;241m=\u001b[39m\u001b[38;5;28;01mNone\u001b[39;00m):\n\u001b[1;32m    702\u001b[0m \u001b[38;5;250m    \u001b[39m\u001b[38;5;124;03m\"\"\"Fail immediately, with the given message.\"\"\"\u001b[39;00m\n\u001b[0;32m--> 703\u001b[0m     \u001b[38;5;28;01mraise\u001b[39;00m \u001b[38;5;28mself\u001b[39m\u001b[38;5;241m.\u001b[39mfailureException(msg)\n",
      "\u001b[0;31mAssertionError\u001b[0m: Lists differ: ['Friday', 'Saturday', 'Saturday'] != ['Friday', 'Saturday', 'Sunday']\n\nFirst differing element 2:\n'Saturday'\n'Sunday'\n\n- ['Friday', 'Saturday', 'Saturday']\n?                          -- ^\n\n+ ['Friday', 'Saturday', 'Sunday']\n?                           ^\n"
     ]
    }
   ],
   "source": [
    "# Test 1\n",
    "assignment_dates = ['Friday 27 Jan 2017', 'Saturday 12 March 2016', 'Sunday 3 October 2015']\n",
    "assert_equal(get_days(assignment_dates), ['Friday', 'Saturday', 'Sunday'])"
   ]
  },
  {
   "cell_type": "code",
   "execution_count": null,
   "metadata": {
    "deletable": false,
    "editable": false,
    "nbgrader": {
     "checksum": "d19aa0710c66513a47e2c197c231728d",
     "grade": true,
     "grade_id": "cell-d83aee453ba53d9f",
     "locked": true,
     "points": 3,
     "schema_version": 1,
     "solution": false
    }
   },
   "outputs": [],
   "source": [
    "assignment_dates2 = ['Monday 17 Jan 2017', 'Tuesday 1 March 2016', 'Wednesday 30 October 2015']\n",
    "assert_equal(get_days(assignment_dates2), ['Monday', 'Tuesday', 'Wednesday'])"
   ]
  },
  {
   "cell_type": "code",
   "execution_count": null,
   "metadata": {
    "deletable": false,
    "editable": false,
    "nbgrader": {
     "checksum": "6e7e27d68fd506a486110e32bc37e1c3",
     "grade": true,
     "grade_id": "cell-2bc2d51ae2e141ca",
     "locked": true,
     "points": 2,
     "schema_version": 1,
     "solution": false
    }
   },
   "outputs": [],
   "source": [
    "# Tests 3\n",
    "assignment_dates3 = ['Thursday 27 Jan 2017']\n",
    "assert_equal(get_days(assignment_dates3), ['Thursday'])"
   ]
  },
  {
   "cell_type": "markdown",
   "metadata": {},
   "source": [
    "#### Question 7\n",
    "Complete the get_day_numbers function to return the INTEGER values for the numbers in the date\n",
    "\n",
    "E.g. get_day_numbers(['Tue 23 April 2017']) = [23]"
   ]
  },
  {
   "cell_type": "code",
   "execution_count": null,
   "metadata": {
    "deletable": false,
    "nbgrader": {
     "checksum": "98bbca85922964a2f1a743f3b4c7dce7",
     "grade": false,
     "grade_id": "cell-9899e00775c1dc99",
     "locked": false,
     "schema_version": 1,
     "solution": true
    }
   },
   "outputs": [],
   "source": [
    "def get_day_numbers(date_list):\n",
    "    # Return the day numbers e.g. 27, 12, 3\n",
    "    # YOUR CODE HERE\n",
    "    raise NotImplementedError()"
   ]
  },
  {
   "cell_type": "code",
   "execution_count": null,
   "metadata": {
    "deletable": false,
    "editable": false,
    "nbgrader": {
     "checksum": "351c9304ac00ba9c27ff93b762003fe1",
     "grade": true,
     "grade_id": "cell-01861b730dc74d86",
     "locked": true,
     "points": 4,
     "schema_version": 1,
     "solution": false
    }
   },
   "outputs": [],
   "source": [
    "# Test1\n",
    "assignment_dates = ['Friday 27 Jan 2017', 'Saturday 12 March 2016', 'Sunday 3 October 2015']\n",
    "assert_equal(get_day_numbers(assignment_dates), [27, 12, 3])"
   ]
  },
  {
   "cell_type": "code",
   "execution_count": null,
   "metadata": {
    "deletable": false,
    "editable": false,
    "nbgrader": {
     "checksum": "1168b911eb557a024b05de947983eb62",
     "grade": true,
     "grade_id": "cell-826206bbf3aa056f",
     "locked": true,
     "points": 3,
     "schema_version": 1,
     "solution": false
    }
   },
   "outputs": [],
   "source": [
    "# Test2\n",
    "assignment_dates2 = ['Monday 17 Jan 2017', 'Tuesday 1 March 2016', 'Wednesday 30 October 2015']\n",
    "assert_equal(get_day_numbers(assignment_dates2), [17, 1, 30])"
   ]
  },
  {
   "cell_type": "markdown",
   "metadata": {},
   "source": [
    "#### Question 8\n",
    "Complete the function to get the year in the date. Make sure this stays a string not an Integer"
   ]
  },
  {
   "cell_type": "code",
   "execution_count": null,
   "metadata": {
    "deletable": false,
    "nbgrader": {
     "checksum": "dd27e5fc295c3e1cc443f0117f99e1dd",
     "grade": false,
     "grade_id": "cell-d8fcc99e93e8e654",
     "locked": false,
     "schema_version": 1,
     "solution": true
    }
   },
   "outputs": [],
   "source": [
    "def get_years(date_list):\n",
    "    # Return years in the date list\n",
    "    # Use the assigment_dates as a testing list\n",
    "    # YOUR CODE HERE\n",
    "    raise NotImplementedError()"
   ]
  },
  {
   "cell_type": "code",
   "execution_count": null,
   "metadata": {
    "deletable": false,
    "editable": false,
    "nbgrader": {
     "checksum": "e91589083c0ffc3878d607910b32f30d",
     "grade": true,
     "grade_id": "cell-5f711d8c81943397",
     "locked": true,
     "points": 3,
     "schema_version": 1,
     "solution": false
    }
   },
   "outputs": [],
   "source": [
    "# Test1\n",
    "assignment_dates = ['Friday 27 Jan 2017', 'Saturday 12 March 2016', 'Sunday 3 October 2015']\n",
    "assert_equal(get_years(assignment_dates), ['2017', '2016', '2015'])"
   ]
  },
  {
   "cell_type": "code",
   "execution_count": null,
   "metadata": {
    "deletable": false,
    "editable": false,
    "nbgrader": {
     "checksum": "c6b0bb74ae5904c1fa4bb18230da72dd",
     "grade": true,
     "grade_id": "cell-6f005e652741f3ff",
     "locked": true,
     "points": 3,
     "schema_version": 1,
     "solution": false
    }
   },
   "outputs": [],
   "source": [
    "# Test2\n",
    "assignment_dates4 = ['Monday 17 Jan 2000', 'Tuesday 1 March 1998', 'Wednesday 30 October 2043']\n",
    "assert_equal(get_years(assignment_dates4), ['2000', '1998', '2043'])"
   ]
  },
  {
   "cell_type": "markdown",
   "metadata": {},
   "source": [
    "### Part B: Numpy"
   ]
  },
  {
   "cell_type": "markdown",
   "metadata": {},
   "source": [
    "Consider the array below"
   ]
  },
  {
   "cell_type": "code",
   "execution_count": 35,
   "metadata": {},
   "outputs": [
    {
     "data": {
      "text/plain": [
       "array([[0.98955226, 0.3192614 , 0.7438975 , 0.93012089, 0.02660314],\n",
       "       [0.82466635, 0.67768784, 0.67277044, 0.35949844, 0.11391641],\n",
       "       [0.24407148, 0.21976471, 0.75482713, 0.93534333, 0.13536534],\n",
       "       [0.59907941, 0.60153784, 0.51119017, 0.15434004, 0.36464548]])"
      ]
     },
     "execution_count": 35,
     "metadata": {},
     "output_type": "execute_result"
    }
   ],
   "source": [
    "a = np.random.rand(4,5)\n",
    "a"
   ]
  },
  {
   "cell_type": "markdown",
   "metadata": {},
   "source": [
    "1. Generate an array called `ans1` comprising only the 2nd to 4th columns\n",
    "2. Generate an array called `ans2` of just the 1st to 3rd columns and the 2nd to 3rd rows\n",
    "3. What is the mean and standard deviation of the rows in array a (Name them `arows_mean`, `arows_sd`)\n",
    "4. Calculate the mean and variance of the columns in array a (Name them `acols_mean`, `acols_var`)"
   ]
  },
  {
   "cell_type": "code",
   "execution_count": null,
   "metadata": {
    "deletable": false,
    "nbgrader": {
     "checksum": "ea4b7808963cca71c3646b3e16b339ea",
     "grade": true,
     "grade_id": "cell-46900ace5babb8cf",
     "locked": false,
     "points": 2,
     "schema_version": 1,
     "solution": true
    }
   },
   "outputs": [],
   "source": [
    "# YOUR CODE HERE\n",
    "raise NotImplementedError()"
   ]
  },
  {
   "cell_type": "code",
   "execution_count": null,
   "metadata": {
    "deletable": false,
    "nbgrader": {
     "checksum": "6f120b50984e86be99347fc022522e04",
     "grade": true,
     "grade_id": "cell-b0c5638d712fc18e",
     "locked": false,
     "points": 2,
     "schema_version": 1,
     "solution": true
    }
   },
   "outputs": [],
   "source": [
    "# YOUR CODE HERE\n",
    "raise NotImplementedError()"
   ]
  },
  {
   "cell_type": "code",
   "execution_count": null,
   "metadata": {
    "deletable": false,
    "nbgrader": {
     "checksum": "9c1ba2b9525e99f1d6078548b1b8067e",
     "grade": true,
     "grade_id": "cell-8e3b647ae1383de4",
     "locked": false,
     "points": 5,
     "schema_version": 1,
     "solution": true
    }
   },
   "outputs": [],
   "source": [
    "# YOUR CODE HERE\n",
    "raise NotImplementedError()"
   ]
  },
  {
   "cell_type": "code",
   "execution_count": null,
   "metadata": {
    "deletable": false,
    "nbgrader": {
     "checksum": "b34a612001deadeeca72ead90ff1774f",
     "grade": true,
     "grade_id": "cell-b3181cc311873032",
     "locked": false,
     "points": 5,
     "schema_version": 1,
     "solution": true
    }
   },
   "outputs": [],
   "source": [
    "# YOUR CODE HERE\n",
    "raise NotImplementedError()"
   ]
  },
  {
   "cell_type": "markdown",
   "metadata": {},
   "source": [
    "Use numpy to load up the datafile `irisdata.txt`. Also load up the labels that correspond to this file `irislabels.txt`"
   ]
  },
  {
   "cell_type": "code",
   "execution_count": null,
   "metadata": {
    "deletable": false,
    "nbgrader": {
     "checksum": "69020a45ff75eb10ac1fb01c3a539513",
     "grade": true,
     "grade_id": "cell-37c4167b1c67a374",
     "locked": false,
     "points": 4,
     "schema_version": 1,
     "solution": true
    }
   },
   "outputs": [],
   "source": [
    "# YOUR CODE HERE\n",
    "raise NotImplementedError()"
   ]
  },
  {
   "cell_type": "markdown",
   "metadata": {},
   "source": [
    "1. What are the size of the data from the datafile? \n",
    "2. The irislabels file has the labels or classes corresponding to the data what are the sizes of the different classes ?"
   ]
  },
  {
   "cell_type": "code",
   "execution_count": null,
   "metadata": {
    "deletable": false,
    "nbgrader": {
     "checksum": "34d3137597739aa33bc24b27c4c2bcc2",
     "grade": true,
     "grade_id": "cell-1a3ec6ca5d0c1ee2",
     "locked": false,
     "points": 6,
     "schema_version": 1,
     "solution": true
    }
   },
   "outputs": [],
   "source": [
    "# YOUR CODE HERE\n",
    "raise NotImplementedError()"
   ]
  },
  {
   "cell_type": "markdown",
   "metadata": {},
   "source": [
    "#### Manually building a prototype based classifier"
   ]
  },
  {
   "cell_type": "markdown",
   "metadata": {},
   "source": [
    "A prototype classifier obtains a very good representative of each class - also called a prototype and uses this for the classification task by computing the distance between a test set and the prototypes of each class. We are going to try and build one using this data.\n",
    "\n",
    "To start this we need to split our data into a training and test set. "
   ]
  },
  {
   "cell_type": "code",
   "execution_count": null,
   "metadata": {
    "deletable": false,
    "nbgrader": {
     "checksum": "cd4e5ea6caf947d4c2d01f08bc56e871",
     "grade": true,
     "grade_id": "cell-87db5de2af7ebdd0",
     "locked": false,
     "points": 5,
     "schema_version": 1,
     "solution": true
    }
   },
   "outputs": [],
   "source": [
    "# YOUR CODE HERE\n",
    "raise NotImplementedError()"
   ]
  },
  {
   "cell_type": "code",
   "execution_count": null,
   "metadata": {
    "deletable": false,
    "nbgrader": {
     "checksum": "0685f9d161eaf24c536587f7b313ebd0",
     "grade": true,
     "grade_id": "cell-d1a12d347ddd519c",
     "locked": false,
     "points": 3,
     "schema_version": 1,
     "solution": true
    }
   },
   "outputs": [],
   "source": [
    "# YOUR CODE HERE\n",
    "raise NotImplementedError()"
   ]
  },
  {
   "cell_type": "markdown",
   "metadata": {},
   "source": [
    "Now we want to get the prototypes. This process can be complicated but for now lets just get the average of each of the data examples representing each class. "
   ]
  },
  {
   "cell_type": "code",
   "execution_count": null,
   "metadata": {
    "deletable": false,
    "nbgrader": {
     "checksum": "b0ceb731669e0f6234413308f484b39b",
     "grade": true,
     "grade_id": "cell-da768715c85fff5e",
     "locked": false,
     "points": 5,
     "schema_version": 1,
     "solution": true
    }
   },
   "outputs": [],
   "source": [
    "# YOUR CODE HERE\n",
    "raise NotImplementedError()"
   ]
  },
  {
   "cell_type": "code",
   "execution_count": null,
   "metadata": {
    "deletable": false,
    "nbgrader": {
     "checksum": "a7955d490d0430899387721bd6f2642b",
     "grade": true,
     "grade_id": "cell-b5036749ed4bcf76",
     "locked": false,
     "points": 3,
     "schema_version": 1,
     "solution": true
    }
   },
   "outputs": [],
   "source": [
    "# YOUR CODE HERE\n",
    "raise NotImplementedError()"
   ]
  },
  {
   "cell_type": "markdown",
   "metadata": {},
   "source": [
    "Now lets see how well your algorithm performs"
   ]
  },
  {
   "cell_type": "code",
   "execution_count": null,
   "metadata": {
    "deletable": false,
    "nbgrader": {
     "checksum": "bdc0d11fb081d718c16b7ee108cd7274",
     "grade": true,
     "grade_id": "cell-55fcc77e8583f3d7",
     "locked": false,
     "points": 3,
     "schema_version": 1,
     "solution": true
    }
   },
   "outputs": [],
   "source": [
    "# YOUR CODE HERE\n",
    "raise NotImplementedError()"
   ]
  },
  {
   "cell_type": "code",
   "execution_count": null,
   "metadata": {
    "deletable": false,
    "nbgrader": {
     "checksum": "a3da3b90246133bca9acaa475563faac",
     "grade": true,
     "grade_id": "cell-b8ca262a964f59e3",
     "locked": false,
     "points": 2,
     "schema_version": 1,
     "solution": true
    }
   },
   "outputs": [],
   "source": [
    "# YOUR CODE HERE\n",
    "raise NotImplementedError()"
   ]
  },
  {
   "cell_type": "markdown",
   "metadata": {},
   "source": [
    "### Part C: Pandas - some data analytics tasks"
   ]
  },
  {
   "cell_type": "markdown",
   "metadata": {},
   "source": [
    "Load the dataset `uganda_produce.csv` using pandas `pandas.read_csv`"
   ]
  },
  {
   "cell_type": "code",
   "execution_count": 40,
   "metadata": {
    "deletable": false,
    "nbgrader": {
     "checksum": "4491a98690fcb1d1f5c07e747be150e1",
     "grade": true,
     "grade_id": "cell-071d8da9c5fe0afe",
     "locked": false,
     "points": 4,
     "schema_version": 1,
     "solution": true
    }
   },
   "outputs": [
    {
     "data": {
      "text/html": [
       "<div>\n",
       "<style scoped>\n",
       "    .dataframe tbody tr th:only-of-type {\n",
       "        vertical-align: middle;\n",
       "    }\n",
       "\n",
       "    .dataframe tbody tr th {\n",
       "        vertical-align: top;\n",
       "    }\n",
       "\n",
       "    .dataframe thead th {\n",
       "        text-align: right;\n",
       "    }\n",
       "</style>\n",
       "<table border=\"1\" class=\"dataframe\">\n",
       "  <thead>\n",
       "    <tr style=\"text-align: right;\">\n",
       "      <th></th>\n",
       "      <th>country</th>\n",
       "      <th>item</th>\n",
       "      <th>element</th>\n",
       "      <th>Unit</th>\n",
       "      <th>Date</th>\n",
       "      <th>Value</th>\n",
       "    </tr>\n",
       "  </thead>\n",
       "  <tbody>\n",
       "    <tr>\n",
       "      <th>0</th>\n",
       "      <td>Uganda</td>\n",
       "      <td>Bananas</td>\n",
       "      <td>Area Harvested</td>\n",
       "      <td>Ha</td>\n",
       "      <td>1/1/2003 12:00:00 AM</td>\n",
       "      <td>140323.0</td>\n",
       "    </tr>\n",
       "    <tr>\n",
       "      <th>1</th>\n",
       "      <td>Uganda</td>\n",
       "      <td>Bananas</td>\n",
       "      <td>Area Harvested</td>\n",
       "      <td>Ha</td>\n",
       "      <td>1/1/2004 12:00:00 AM</td>\n",
       "      <td>141083.0</td>\n",
       "    </tr>\n",
       "    <tr>\n",
       "      <th>2</th>\n",
       "      <td>Uganda</td>\n",
       "      <td>Bananas</td>\n",
       "      <td>Area Harvested</td>\n",
       "      <td>Ha</td>\n",
       "      <td>1/1/2005 12:00:00 AM</td>\n",
       "      <td>141505.0</td>\n",
       "    </tr>\n",
       "    <tr>\n",
       "      <th>3</th>\n",
       "      <td>Uganda</td>\n",
       "      <td>Bananas</td>\n",
       "      <td>Area Harvested</td>\n",
       "      <td>Ha</td>\n",
       "      <td>1/1/2006 12:00:00 AM</td>\n",
       "      <td>141674.0</td>\n",
       "    </tr>\n",
       "    <tr>\n",
       "      <th>4</th>\n",
       "      <td>Uganda</td>\n",
       "      <td>Bananas</td>\n",
       "      <td>Area Harvested</td>\n",
       "      <td>Ha</td>\n",
       "      <td>1/1/2007 12:00:00 AM</td>\n",
       "      <td>141758.0</td>\n",
       "    </tr>\n",
       "    <tr>\n",
       "      <th>...</th>\n",
       "      <td>...</td>\n",
       "      <td>...</td>\n",
       "      <td>...</td>\n",
       "      <td>...</td>\n",
       "      <td>...</td>\n",
       "      <td>...</td>\n",
       "    </tr>\n",
       "    <tr>\n",
       "      <th>1977</th>\n",
       "      <td>Uganda</td>\n",
       "      <td>Sunflower oil</td>\n",
       "      <td>Production Quantity</td>\n",
       "      <td>tonnes</td>\n",
       "      <td>1/1/2009 12:00:00 AM</td>\n",
       "      <td>75800.0</td>\n",
       "    </tr>\n",
       "    <tr>\n",
       "      <th>1978</th>\n",
       "      <td>Uganda</td>\n",
       "      <td>Sunflower oil</td>\n",
       "      <td>Production Quantity</td>\n",
       "      <td>tonnes</td>\n",
       "      <td>1/1/2010 12:00:00 AM</td>\n",
       "      <td>83400.0</td>\n",
       "    </tr>\n",
       "    <tr>\n",
       "      <th>1979</th>\n",
       "      <td>Uganda</td>\n",
       "      <td>Sunflower oil</td>\n",
       "      <td>Production Quantity</td>\n",
       "      <td>tonnes</td>\n",
       "      <td>1/1/2011 12:00:00 AM</td>\n",
       "      <td>92200.0</td>\n",
       "    </tr>\n",
       "    <tr>\n",
       "      <th>1980</th>\n",
       "      <td>Uganda</td>\n",
       "      <td>Sunflower oil</td>\n",
       "      <td>Production Quantity</td>\n",
       "      <td>tonnes</td>\n",
       "      <td>1/1/2012 12:00:00 AM</td>\n",
       "      <td>87100.0</td>\n",
       "    </tr>\n",
       "    <tr>\n",
       "      <th>1981</th>\n",
       "      <td>Uganda</td>\n",
       "      <td>Sunflower oil</td>\n",
       "      <td>Production Quantity</td>\n",
       "      <td>tonnes</td>\n",
       "      <td>1/1/2013 12:00:00 AM</td>\n",
       "      <td>80300.0</td>\n",
       "    </tr>\n",
       "  </tbody>\n",
       "</table>\n",
       "<p>1982 rows × 6 columns</p>\n",
       "</div>"
      ],
      "text/plain": [
       "     country           item  ...                  Date     Value\n",
       "0     Uganda        Bananas  ...  1/1/2003 12:00:00 AM  140323.0\n",
       "1     Uganda        Bananas  ...  1/1/2004 12:00:00 AM  141083.0\n",
       "2     Uganda        Bananas  ...  1/1/2005 12:00:00 AM  141505.0\n",
       "3     Uganda        Bananas  ...  1/1/2006 12:00:00 AM  141674.0\n",
       "4     Uganda        Bananas  ...  1/1/2007 12:00:00 AM  141758.0\n",
       "...      ...            ...  ...                   ...       ...\n",
       "1977  Uganda  Sunflower oil  ...  1/1/2009 12:00:00 AM   75800.0\n",
       "1978  Uganda  Sunflower oil  ...  1/1/2010 12:00:00 AM   83400.0\n",
       "1979  Uganda  Sunflower oil  ...  1/1/2011 12:00:00 AM   92200.0\n",
       "1980  Uganda  Sunflower oil  ...  1/1/2012 12:00:00 AM   87100.0\n",
       "1981  Uganda  Sunflower oil  ...  1/1/2013 12:00:00 AM   80300.0\n",
       "\n",
       "[1982 rows x 6 columns]"
      ]
     },
     "execution_count": 40,
     "metadata": {},
     "output_type": "execute_result"
    }
   ],
   "source": [
    "import pandas as pd \n",
    "data = pd.read_csv(\"uganda_produce.csv\")\n",
    "data"
   ]
  },
  {
   "cell_type": "markdown",
   "metadata": {},
   "source": [
    "**Questions**\n",
    "\n",
    "1. How many unique items are there in the dataset (Hint: you may want to investigate the `unique` method of pandas)\n",
    "3. Of these products [sweet potatoes, beans and cassava] which had the highest yield overall ? What about for the year 2006 alone ?\n",
    "2. Which commodity(item) overall had the highest area harvested ?\n",
    "4. Plot the trend of area harvested for bananas over the years"
   ]
  },
  {
   "cell_type": "code",
   "execution_count": 48,
   "metadata": {
    "deletable": false,
    "nbgrader": {
     "checksum": "2c84efbab0ab2fcc01b1c0ac7c3bf0ac",
     "grade": true,
     "grade_id": "cell-7f2ad888dd4f4214",
     "locked": false,
     "points": 1,
     "schema_version": 1,
     "solution": true
    }
   },
   "outputs": [
    {
     "data": {
      "text/plain": [
       "country       1\n",
       "item         59\n",
       "element       4\n",
       "Unit          3\n",
       "Date         11\n",
       "Value      1474\n",
       "dtype: int64"
      ]
     },
     "execution_count": 48,
     "metadata": {},
     "output_type": "execute_result"
    }
   ],
   "source": [
    "data.nunique()"
   ]
  },
  {
   "cell_type": "code",
   "execution_count": 49,
   "metadata": {
    "deletable": false,
    "nbgrader": {
     "checksum": "fb81eacd538fb29112d0a55d085f3266",
     "grade": true,
     "grade_id": "cell-627284a78066ae4f",
     "locked": false,
     "points": 2,
     "schema_version": 1,
     "solution": true
    }
   },
   "outputs": [
    {
     "ename": "KeyError",
     "evalue": "('sweet', 'potatoes', 'beans', 'cassava')",
     "output_type": "error",
     "traceback": [
      "\u001b[0;31m---------------------------------------------------------------------------\u001b[0m",
      "\u001b[0;31mKeyError\u001b[0m                                  Traceback (most recent call last)",
      "File \u001b[0;32m/Applications/anaconda3/lib/python3.11/site-packages/pandas/core/indexes/base.py:3653\u001b[0m, in \u001b[0;36mIndex.get_loc\u001b[0;34m(self, key)\u001b[0m\n\u001b[1;32m   3652\u001b[0m \u001b[38;5;28;01mtry\u001b[39;00m:\n\u001b[0;32m-> 3653\u001b[0m     \u001b[38;5;28;01mreturn\u001b[39;00m \u001b[38;5;28mself\u001b[39m\u001b[38;5;241m.\u001b[39m_engine\u001b[38;5;241m.\u001b[39mget_loc(casted_key)\n\u001b[1;32m   3654\u001b[0m \u001b[38;5;28;01mexcept\u001b[39;00m \u001b[38;5;167;01mKeyError\u001b[39;00m \u001b[38;5;28;01mas\u001b[39;00m err:\n",
      "File \u001b[0;32m/Applications/anaconda3/lib/python3.11/site-packages/pandas/_libs/index.pyx:147\u001b[0m, in \u001b[0;36mpandas._libs.index.IndexEngine.get_loc\u001b[0;34m()\u001b[0m\n",
      "File \u001b[0;32m/Applications/anaconda3/lib/python3.11/site-packages/pandas/_libs/index.pyx:176\u001b[0m, in \u001b[0;36mpandas._libs.index.IndexEngine.get_loc\u001b[0;34m()\u001b[0m\n",
      "File \u001b[0;32mpandas/_libs/hashtable_class_helper.pxi:7080\u001b[0m, in \u001b[0;36mpandas._libs.hashtable.PyObjectHashTable.get_item\u001b[0;34m()\u001b[0m\n",
      "File \u001b[0;32mpandas/_libs/hashtable_class_helper.pxi:7088\u001b[0m, in \u001b[0;36mpandas._libs.hashtable.PyObjectHashTable.get_item\u001b[0;34m()\u001b[0m\n",
      "\u001b[0;31mKeyError\u001b[0m: ('sweet', 'potatoes', 'beans', 'cassava')",
      "\nThe above exception was the direct cause of the following exception:\n",
      "\u001b[0;31mKeyError\u001b[0m                                  Traceback (most recent call last)",
      "Cell \u001b[0;32mIn[49], line 2\u001b[0m\n\u001b[1;32m      1\u001b[0m \u001b[38;5;66;03m# YOUR CODE HERE\u001b[39;00m\n\u001b[0;32m----> 2\u001b[0m data[\u001b[38;5;124m'\u001b[39m\u001b[38;5;124msweet\u001b[39m\u001b[38;5;124m'\u001b[39m, \u001b[38;5;124m'\u001b[39m\u001b[38;5;124mpotatoes\u001b[39m\u001b[38;5;124m'\u001b[39m, \u001b[38;5;124m'\u001b[39m\u001b[38;5;124mbeans\u001b[39m\u001b[38;5;124m'\u001b[39m , \u001b[38;5;124m'\u001b[39m\u001b[38;5;124mcassava\u001b[39m\u001b[38;5;124m'\u001b[39m]\n",
      "File \u001b[0;32m/Applications/anaconda3/lib/python3.11/site-packages/pandas/core/frame.py:3761\u001b[0m, in \u001b[0;36mDataFrame.__getitem__\u001b[0;34m(self, key)\u001b[0m\n\u001b[1;32m   3759\u001b[0m \u001b[38;5;28;01mif\u001b[39;00m \u001b[38;5;28mself\u001b[39m\u001b[38;5;241m.\u001b[39mcolumns\u001b[38;5;241m.\u001b[39mnlevels \u001b[38;5;241m>\u001b[39m \u001b[38;5;241m1\u001b[39m:\n\u001b[1;32m   3760\u001b[0m     \u001b[38;5;28;01mreturn\u001b[39;00m \u001b[38;5;28mself\u001b[39m\u001b[38;5;241m.\u001b[39m_getitem_multilevel(key)\n\u001b[0;32m-> 3761\u001b[0m indexer \u001b[38;5;241m=\u001b[39m \u001b[38;5;28mself\u001b[39m\u001b[38;5;241m.\u001b[39mcolumns\u001b[38;5;241m.\u001b[39mget_loc(key)\n\u001b[1;32m   3762\u001b[0m \u001b[38;5;28;01mif\u001b[39;00m is_integer(indexer):\n\u001b[1;32m   3763\u001b[0m     indexer \u001b[38;5;241m=\u001b[39m [indexer]\n",
      "File \u001b[0;32m/Applications/anaconda3/lib/python3.11/site-packages/pandas/core/indexes/base.py:3655\u001b[0m, in \u001b[0;36mIndex.get_loc\u001b[0;34m(self, key)\u001b[0m\n\u001b[1;32m   3653\u001b[0m     \u001b[38;5;28;01mreturn\u001b[39;00m \u001b[38;5;28mself\u001b[39m\u001b[38;5;241m.\u001b[39m_engine\u001b[38;5;241m.\u001b[39mget_loc(casted_key)\n\u001b[1;32m   3654\u001b[0m \u001b[38;5;28;01mexcept\u001b[39;00m \u001b[38;5;167;01mKeyError\u001b[39;00m \u001b[38;5;28;01mas\u001b[39;00m err:\n\u001b[0;32m-> 3655\u001b[0m     \u001b[38;5;28;01mraise\u001b[39;00m \u001b[38;5;167;01mKeyError\u001b[39;00m(key) \u001b[38;5;28;01mfrom\u001b[39;00m \u001b[38;5;21;01merr\u001b[39;00m\n\u001b[1;32m   3656\u001b[0m \u001b[38;5;28;01mexcept\u001b[39;00m \u001b[38;5;167;01mTypeError\u001b[39;00m:\n\u001b[1;32m   3657\u001b[0m     \u001b[38;5;66;03m# If we have a listlike key, _check_indexing_error will raise\u001b[39;00m\n\u001b[1;32m   3658\u001b[0m     \u001b[38;5;66;03m#  InvalidIndexError. Otherwise we fall through and re-raise\u001b[39;00m\n\u001b[1;32m   3659\u001b[0m     \u001b[38;5;66;03m#  the TypeError.\u001b[39;00m\n\u001b[1;32m   3660\u001b[0m     \u001b[38;5;28mself\u001b[39m\u001b[38;5;241m.\u001b[39m_check_indexing_error(key)\n",
      "\u001b[0;31mKeyError\u001b[0m: ('sweet', 'potatoes', 'beans', 'cassava')"
     ]
    }
   ],
   "source": [
    "# YOUR CODE HERE\n",
    "import pandas as pd\n",
    "\n",
    "# Assuming your data is in a CSV file named 'crop_data.csv'\n",
    "# Adjust the filename and format based on your data\n",
    "file_path = 'crop_data.csv'\n",
    "\n",
    "# Load the dataset into a Pandas DataFrame\n",
    "df = pd.read_csv(file_path)\n",
    "\n",
    "# Filter rows for the relevant crops (sweet potatoes, beans, cassava)\n",
    "selected_crops = ['Sweet Potatoes', 'Beans', 'Cassava']\n",
    "filtered_df = df[df['Crop'].isin(selected_crops)]\n",
    "\n",
    "# Find the crop with the highest overall yield\n",
    "overall_highest_yield_crop = filtered_df.groupby('Crop')['Yield'].sum().idxmax()\n",
    "overall_highest_yield_value = filtered_df.groupby('Crop')['Yield'].sum().max()\n",
    "\n",
    "# Find the crop with the highest yield for the year 2006\n",
    "year_2006_highest_yield_crop = filtered_df[filtered_df['Year'] == 2006].groupby('Crop')['Yield'].sum().idxmax()\n",
    "year_2006_highest_yield_value = filtered_df[filtered_df['Year'] == 2006].groupby('Crop')['Yield'].sum().max()\n",
    "\n",
    "# Print the results\n",
    "print(f\"The crop with the highest overall yield is {overall_highest_yield_crop} with a total yield of {overall_highest_yield_value}\")\n",
    "print(f\"For the year 2006 alone, the crop with the highest yield is {year_2006_highest_yield_crop} with a total yield of {year_2006_highest_yield_value}\")\n",
    " \n"
   ]
  },
  {
   "cell_type": "code",
   "execution_count": null,
   "metadata": {
    "deletable": false,
    "nbgrader": {
     "checksum": "c1ce58edf6a600c330752e7c91b7589e",
     "grade": true,
     "grade_id": "cell-7d6a7ea4969781d7",
     "locked": false,
     "points": 2,
     "schema_version": 1,
     "solution": true
    }
   },
   "outputs": [],
   "source": [
    "# YOUR CODE HERE\n",
    "raise NotImplementedError()"
   ]
  },
  {
   "cell_type": "code",
   "execution_count": null,
   "metadata": {
    "deletable": false,
    "nbgrader": {
     "checksum": "0ea996b486eda108249230fae43fd498",
     "grade": true,
     "grade_id": "cell-84618533f475324e",
     "locked": false,
     "points": 5,
     "schema_version": 1,
     "solution": true
    }
   },
   "outputs": [],
   "source": [
    "# YOUR CODE HERE\n",
    "raise NotImplementedError()"
   ]
  }
 ],
 "metadata": {
  "kernelspec": {
   "display_name": "Python 3 (ipykernel)",
   "language": "python",
   "name": "python3"
  },
  "language_info": {
   "codemirror_mode": {
    "name": "ipython",
    "version": 3
   },
   "file_extension": ".py",
   "mimetype": "text/x-python",
   "name": "python",
   "nbconvert_exporter": "python",
   "pygments_lexer": "ipython3",
   "version": "3.11.5"
  }
 },
 "nbformat": 4,
 "nbformat_minor": 4
}
